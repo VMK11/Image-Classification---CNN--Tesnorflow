{
 "cells": [
  {
   "cell_type": "markdown",
   "metadata": {
    "collapsed": true
   },
   "source": [
    "## Dowload and load CIFAR-10 Dataset"
   ]
  },
  {
   "cell_type": "code",
   "execution_count": 18,
   "metadata": {},
   "outputs": [
    {
     "name": "stdout",
     "output_type": "stream",
     "text": [
      "All files found!\n"
     ]
    }
   ],
   "source": [
    "from urllib.request import urlretrieve\n",
    "from os.path import isfile, isdir\n",
    "from tqdm import tqdm\n",
    "import problem_unittests as tests\n",
    "import tarfile\n",
    "\n",
    "cifar10_dataset_folder_path = 'cifar-10-batches-py'\n",
    "\n",
    "class DLProgress(tqdm):\n",
    "    last_block = 0\n",
    "\n",
    "    def hook(self, block_num=1, block_size=1, total_size=None):\n",
    "        self.total = total_size\n",
    "        self.update((block_num - self.last_block) * block_size)\n",
    "        self.last_block = block_num\n",
    "\n",
    "if not isfile('cifar-10-python.tar.gz'):\n",
    "    with DLProgress(unit='B', unit_scale=True, miniters=1, desc='CIFAR-10 Dataset') as pbar:\n",
    "        urlretrieve(\n",
    "            'https://www.cs.toronto.edu/~kriz/cifar-10-python.tar.gz',\n",
    "            'cifar-10-python.tar.gz',\n",
    "            pbar.hook)\n",
    "\n",
    "if not isdir(cifar10_dataset_folder_path):\n",
    "    with tarfile.open('cifar-10-python.tar.gz') as tar:\n",
    "        tar.extractall()\n",
    "        tar.close()\n",
    "\n",
    "\n",
    "tests.test_folder_path(cifar10_dataset_folder_path)"
   ]
  },
  {
   "cell_type": "markdown",
   "metadata": {},
   "source": [
    "## Explore the Data\n",
    "The dataset is broken into batches to prevent your machine from running out of memory.  The CIFAR-10 dataset consists of 5 batches, named `data_batch_1`, `data_batch_2`, etc.. Each batch contains the labels and images that are one of the following:\n",
    "* airplane\n",
    "* automobile\n",
    "* bird\n",
    "* cat\n",
    "* deer\n",
    "* dog\n",
    "* frog\n",
    "* horse\n",
    "* ship\n",
    "* truck\n",
    "\n",
    "Understanding a dataset is part of making predictions on the data.  Play around with the code cell below by changing the `batch_id` and `sample_id`. The `batch_id` is the id for a batch (1-5). The `sample_id` is the id for a image and label pair in the batch.\n",
    "\n",
    "Ask yourself \"What are all possible labels?\", \"What is the range of values for the image data?\", \"Are the labels in order or random?\".  Answers to questions like these will help you preprocess the data and end up with better predictions."
   ]
  },
  {
   "cell_type": "code",
   "execution_count": 19,
   "metadata": {},
   "outputs": [
    {
     "name": "stdout",
     "output_type": "stream",
     "text": [
      "\n",
      "Stats of batch 3:\n",
      "Samples: 10000\n",
      "Label Counts: {0: 994, 1: 1042, 2: 965, 3: 997, 4: 990, 5: 1029, 6: 978, 7: 1015, 8: 961, 9: 1029}\n",
      "First 20 Labels: [8, 5, 0, 6, 9, 2, 8, 3, 6, 2, 7, 4, 6, 9, 0, 0, 7, 3, 7, 2]\n",
      "\n",
      "Example of Image 8:\n",
      "Image - Min Value: 14 Max Value: 218\n",
      "Image - Shape: (32, 32, 3)\n",
      "Label - Label Id: 6 Name: frog\n"
     ]
    },
    {
     "data": {
      "image/png": "[encoded data removed]",
      "text/plain": [
       "<matplotlib.figure.Figure at 0x22e58a076a0>"
      ]
     },
     "metadata": {
      "image/png": {
       "height": 250,
       "width": 253
      }
     },
     "output_type": "display_data"
    }
   ],
   "source": [
    "%matplotlib inline\n",
    "%config InlineBackend.figure_format = 'retina'\n",
    "\n",
    "import helper\n",
    "import numpy as np\n",
    "\n",
    "# Explore the dataset\n",
    "batch_id = 3\n",
    "sample_id = 8\n",
    "helper.display_stats(cifar10_dataset_folder_path, batch_id, sample_id)"
   ]
  },
  {
   "cell_type": "markdown",
   "metadata": {},
   "source": [
    "## Implement Preprocess Functions\n",
    "### Normalize\n",
    "In the cell below, implement the `normalize` function to take in image data, `x`, and return it as a normalized Numpy array. The values should be in the range of 0 to 1, inclusive.  The return object should be the same shape as `x`."
   ]
  },
  {
   "cell_type": "code",
   "execution_count": 20,
   "metadata": {},
   "outputs": [
    {
     "name": "stdout",
     "output_type": "stream",
     "text": [
      "Tests Passed\n"
     ]
    }
   ],
   "source": [
    "def normalize(x):\n",
    "    \"\"\"\n",
    "    Normalize a list of sample image data in the range of 0 to 1\n",
    "    : x: List of image data.  The image shape is (32, 32, 3)\n",
    "    : return: Numpy array of normalize data\n",
    "    \"\"\"\n",
    "    # TODO: Implement Function\n",
    "    norm  = np.divide(x,255)\n",
    "    \n",
    "    return norm\n",
    "\n",
    "\n",
    "tests.test_normalize(normalize)\n",
    "test_shape = (np.random.choice(range(1000)), 32, 32, 3)\n",
    "test_numbers = np.random.choice(range(256), test_shape)\n",
    "#print(test_shape)\n",
    "#print(test_numbers)"
   ]
  },
  {
   "cell_type": "markdown",
   "metadata": {},
   "source": [
    "### One-hot encode\n",
    "Just like the previous code cell, you'll be implementing a function for preprocessing.  This time, you'll implement the `one_hot_encode` function. The input, `x`, are a list of labels.  Implement the function to return the list of labels as One-Hot encoded Numpy array.  The possible values for labels are 0 to 9. The one-hot encoding function should return the same encoding for each value between each call to `one_hot_encode`.  Make sure to save the map of encodings outside the function.\n",
    "\n",
    "**Hint:**\n",
    "\n",
    "Look into LabelBinarizer in the preprocessing module of sklearn."
   ]
  },
  {
   "cell_type": "code",
   "execution_count": 37,
   "metadata": {},
   "outputs": [
    {
     "name": "stdout",
     "output_type": "stream",
     "text": [
      "Tests Passed\n"
     ]
    }
   ],
   "source": [
    "def one_hot_encode(x):\n",
    "    \"\"\"\n",
    "    One hot encode a list of sample labels. Return a one-hot encoded vector for each label.\n",
    "    : x: List of sample Labels\n",
    "    : return: Numpy array of one-hot encoded labels\n",
    "    \"\"\"\n",
    "    # TODO: Implement Function\n",
    "    from sklearn.preprocessing import OneHotEncoder\n",
    "    enc = OneHotEncoder(n_values=10)\n",
    "    one_hot_encoded_labels = enc.fit_transform(np.array(x).reshape(-1, 1)).toarray()    \n",
    "    return one_hot_encoded_labels\n",
    "\n",
    "\n",
    "tests.test_one_hot_encode(one_hot_encode)"
   ]
  },
  {
   "cell_type": "markdown",
   "metadata": {},
   "source": [
    "### Randomize Data\n",
    "As you saw from exploring the data above, the order of the samples are randomized.  It doesn't hurt to randomize it again, but you don't need to for this dataset."
   ]
  },
  {
   "cell_type": "markdown",
   "metadata": {},
   "source": [
    "## Preprocess all the data and save it\n",
    "Running the code cell below will preprocess all the CIFAR-10 data and save it to file. The code below also uses 10% of the training data for validation."
   ]
  },
  {
   "cell_type": "code",
   "execution_count": 38,
   "metadata": {},
   "outputs": [],
   "source": [
    "\n",
    "# Preprocess Training, Validation, and Testing Data\n",
    "helper.preprocess_and_save_data(cifar10_dataset_folder_path, normalize, one_hot_encode)"
   ]
  },
  {
   "cell_type": "markdown",
   "metadata": {},
   "source": [
    "# Check Point\n",
    "This is your first checkpoint.  If you ever decide to come back to this notebook or have to restart the notebook, you can start from here.  The preprocessed data has been saved to disk."
   ]
  },
  {
   "cell_type": "code",
   "execution_count": 39,
   "metadata": {},
   "outputs": [],
   "source": [
    "\n",
    "import pickle\n",
    "import problem_unittests as tests\n",
    "import helper\n",
    "\n",
    "# Load the Preprocessed Validation data\n",
    "valid_features, valid_labels = pickle.load(open('preprocess_validation.p', mode='rb'))"
   ]
  },
  {
   "cell_type": "markdown",
   "metadata": {},
   "source": [
    "## Build the network\n",
    "For the neural network, you'll build each layer into a function.  Most of the code you've seen has been outside of functions. To test your code more thoroughly, we require that you put each layer in a function.  This allows us to give you better feedback and test for simple mistakes using our unittests before you submit your project.\n",
    "\n",
    ">**Note:** If you're finding it hard to dedicate enough time for this course each week, we've provided a small shortcut to this part of the project. In the next couple of problems, you'll have the option to use classes from the [TensorFlow Layers](https://www.tensorflow.org/api_docs/python/tf/layers) or [TensorFlow Layers (contrib)](https://www.tensorflow.org/api_guides/python/contrib.layers) packages to build each layer, except the layers you build in the \"Convolutional and Max Pooling Layer\" section.  TF Layers is similar to Keras's and TFLearn's abstraction to layers, so it's easy to pickup.\n",
    "\n",
    ">However, if you would like to get the most out of this course, try to solve all the problems _without_ using anything from the TF Layers packages. You **can** still use classes from other packages that happen to have the same name as ones you find in TF Layers! For example, instead of using the TF Layers version of the `conv2d` class, [tf.layers.conv2d](https://www.tensorflow.org/api_docs/python/tf/layers/conv2d), you would want to use the TF Neural Network version of `conv2d`, [tf.nn.conv2d](https://www.tensorflow.org/api_docs/python/tf/nn/conv2d). \n",
    "\n",
    "Let's begin!\n",
    "\n",
    "### Input\n",
    "The neural network needs to read the image data, one-hot encoded labels, and dropout keep probability. Implement the following functions\n",
    "* Implement `neural_net_image_input`\n",
    " * Return a [TF Placeholder](https://www.tensorflow.org/api_docs/python/tf/placeholder)\n",
    " * Set the shape using `image_shape` with batch size set to `None`.\n",
    " * Name the TensorFlow placeholder \"x\" using the TensorFlow `name` parameter in the [TF Placeholder](https://www.tensorflow.org/api_docs/python/tf/placeholder).\n",
    "* Implement `neural_net_label_input`\n",
    " * Return a [TF Placeholder](https://www.tensorflow.org/api_docs/python/tf/placeholder)\n",
    " * Set the shape using `n_classes` with batch size set to `None`.\n",
    " * Name the TensorFlow placeholder \"y\" using the TensorFlow `name` parameter in the [TF Placeholder](https://www.tensorflow.org/api_docs/python/tf/placeholder).\n",
    "* Implement `neural_net_keep_prob_input`\n",
    " * Return a [TF Placeholder](https://www.tensorflow.org/api_docs/python/tf/placeholder) for dropout keep probability.\n",
    " * Name the TensorFlow placeholder \"keep_prob\" using the TensorFlow `name` parameter in the [TF Placeholder](https://www.tensorflow.org/api_docs/python/tf/placeholder).\n",
    "\n",
    "These names will be used at the end of the project to load your saved model.\n",
    "\n",
    "Note: `None` for shapes in TensorFlow allow for a dynamic size."
   ]
  },
  {
   "cell_type": "code",
   "execution_count": 42,
   "metadata": {},
   "outputs": [
    {
     "name": "stdout",
     "output_type": "stream",
     "text": [
      "Image Input Tests Passed.\n",
      "Label Input Tests Passed.\n",
      "Keep Prob Tests Passed.\n"
     ]
    }
   ],
   "source": [
    "import tensorflow as tf\n",
    "\n",
    "def neural_net_image_input(image_shape):\n",
    "    \"\"\"\n",
    "    Return a Tensor for a batch of image input\n",
    "    : image_shape: Shape of the images\n",
    "    : return: Tensor for image input.\n",
    "    \"\"\"\n",
    "    x = tf.placeholder(tf.float32,[None,image_shape[0],image_shape[1],image_shape[2]],name='x')   \n",
    "    return x\n",
    "\n",
    "\n",
    "def neural_net_label_input(n_classes):\n",
    "    \"\"\"\n",
    "    Return a Tensor for a batch of label input\n",
    "    : n_classes: Number of classes\n",
    "    : return: Tensor for label input.\n",
    "    \"\"\"\n",
    "    # TODO: Implement Function\n",
    "    y = tf.placeholder(tf.float32,[None,10],name='y')\n",
    "    return y\n",
    "\n",
    "\n",
    "def neural_net_keep_prob_input():\n",
    "    \"\"\"\n",
    "    Return a Tensor for keep probability\n",
    "    : return: Tensor for keep probability.\n",
    "    \"\"\"\n",
    "    # TODO: Implement Function\n",
    "    keep_prob=tf.placeholder(tf.float32,name='keep_prob')\n",
    "    return keep_prob\n",
    "\n",
    "\n",
    "tf.reset_default_graph()\n",
    "tests.test_nn_image_inputs(neural_net_image_input)\n",
    "tests.test_nn_label_inputs(neural_net_label_input)\n",
    "tests.test_nn_keep_prob_inputs(neural_net_keep_prob_input)"
   ]
  },
  {
   "cell_type": "markdown",
   "metadata": {},
   "source": [
    "### Convolution and Max Pooling Layer\n",
    "Convolution layers have a lot of success with images. For this code cell, you should implement the function `conv2d_maxpool` to apply convolution then max pooling:\n",
    "* Create the weight and bias using `conv_ksize`, `conv_num_outputs` and the shape of `x_tensor`.\n",
    "* Apply a convolution to `x_tensor` using weight and `conv_strides`.\n",
    " * We recommend you use same padding, but you're welcome to use any padding.\n",
    "* Add bias\n",
    "* Add a nonlinear activation to the convolution.\n",
    "* Apply Max Pooling using `pool_ksize` and `pool_strides`.\n",
    " * We recommend you use same padding, but you're welcome to use any padding.\n",
    "\n",
    "**Note:** You **can't** use [TensorFlow Layers](https://www.tensorflow.org/api_docs/python/tf/layers) or [TensorFlow Layers (contrib)](https://www.tensorflow.org/api_guides/python/contrib.layers) for **this** layer, but you can still use TensorFlow's [Neural Network](https://www.tensorflow.org/api_docs/python/tf/nn) package. You may still use the shortcut option for all the **other** layers.\n",
    "\n",
    "** Hint: **\n",
    "\n",
    "When unpacking values as an argument in Python, look into the [unpacking](https://docs.python.org/3/tutorial/controlflow.html#unpacking-argument-lists) operator. "
   ]
  },
  {
   "cell_type": "code",
   "execution_count": 53,
   "metadata": {},
   "outputs": [
    {
     "name": "stdout",
     "output_type": "stream",
     "text": [
      "Tests Passed\n"
     ]
    }
   ],
   "source": [
    "def conv2d_maxpool(x_tensor, conv_num_outputs, conv_ksize, conv_strides, pool_ksize, pool_strides):\n",
    "    \"\"\"\n",
    "    Apply convolution then max pooling to x_tensor\n",
    "    :param x_tensor: TensorFlow Tensor\n",
    "    :param conv_num_outputs: Number of outputs for the convolutional layer\n",
    "    :param conv_ksize: kernal size 2-D Tuple for the convolutional layer\n",
    "    :param conv_strides: Stride 2-D Tuple for convolution\n",
    "    :param pool_ksize: kernal size 2-D Tuple for pool\n",
    "    :param pool_strides: Stride 2-D Tuple for pool\n",
    "    : return: A tensor that represents convolution and max pooling of x_tensor\n",
    "    \"\"\"\n",
    "    # TODO: Implement Function\n",
    "    input_dim = x_tensor.get_shape().as_list()\n",
    "    input_chanels = input_dim[3]\n",
    "    weight_dim = [conv_ksize[0],conv_ksize[1],input_chanels,conv_num_outputs]\n",
    "    \n",
    "    weight_in = tf.Variable(tf.truncated_normal(weight_dim,stddev=0.05,mean=0.0))\n",
    "    bias_in = tf.Variable(tf.constant(0.01,tf.float32,[conv_num_outputs]))\n",
    "    \n",
    "    conv2d_layer = tf.nn.relu(tf.nn.conv2d(x_tensor,weight_in,strides=[1,conv_strides[0],conv_strides[1],1],padding='SAME')+bias_in)\n",
    "    maxpool_layer = tf.nn.max_pool(conv2d_layer,ksize=[1,pool_ksize[0],pool_ksize[1],1],\n",
    "                                   strides=[1,pool_strides[0],pool_strides[1],1],padding='SAME')\n",
    "    return maxpool_layer\n",
    "\n",
    "\n",
    "tests.test_con_pool(conv2d_maxpool)"
   ]
  },
  {
   "cell_type": "markdown",
   "metadata": {},
   "source": [
    "### Flatten Layer\n",
    "Implement the `flatten` function to change the dimension of `x_tensor` from a 4-D tensor to a 2-D tensor.  The output should be the shape (*Batch Size*, *Flattened Image Size*). Shortcut option: you can use classes from the [TensorFlow Layers](https://www.tensorflow.org/api_docs/python/tf/layers) or [TensorFlow Layers (contrib)](https://www.tensorflow.org/api_guides/python/contrib.layers) packages for this layer. For more of a challenge, only use other TensorFlow packages."
   ]
  },
  {
   "cell_type": "code",
   "execution_count": 8,
   "metadata": {},
   "outputs": [
    {
     "name": "stdout",
     "output_type": "stream",
     "text": [
      "Tests Passed\n"
     ]
    }
   ],
   "source": [
    "def flatten(x_tensor):\n",
    "    \"\"\"\n",
    "    Flatten x_tensor to (Batch Size, Flattened Image Size)\n",
    "    : x_tensor: A tensor of size (Batch Size, ...), where ... are the image dimensions.\n",
    "    : return: A tensor of size (Batch Size, Flattened Image Size).\n",
    "    \"\"\"\n",
    "    # TODO: Implement Function\n",
    "    x_shape = x_tensor.get_shape()\n",
    "    num_feats = x_shape[1:4].num_elements()\n",
    "    flatten = tf.reshape(x_tensor,[-1,num_feats])\n",
    "    return flatten\n",
    "\n",
    "\n",
    "\n",
    "tests.test_flatten(flatten)"
   ]
  },
  {
   "cell_type": "markdown",
   "metadata": {},
   "source": [
    "### Fully-Connected Layer\n",
    "Implement the `fully_conn` function to apply a fully connected layer to `x_tensor` with the shape (*Batch Size*, *num_outputs*). Shortcut option: you can use classes from the [TensorFlow Layers](https://www.tensorflow.org/api_docs/python/tf/layers) or [TensorFlow Layers (contrib)](https://www.tensorflow.org/api_guides/python/contrib.layers) packages for this layer. For more of a challenge, only use other TensorFlow packages."
   ]
  },
  {
   "cell_type": "code",
   "execution_count": 12,
   "metadata": {},
   "outputs": [
    {
     "name": "stdout",
     "output_type": "stream",
     "text": [
      "Tests Passed\n"
     ]
    }
   ],
   "source": [
    "def fully_conn(x_tensor, num_outputs):\n",
    "    \"\"\"\n",
    "    Apply a fully connected layer to x_tensor using weight and bias\n",
    "    : x_tensor: A 2-D tensor where the first dimension is batch size.\n",
    "    : num_outputs: The number of output that the new tensor should be.\n",
    "    : return: A 2-D tensor where the second dimension is num_outputs.\n",
    "    \"\"\"\n",
    "    # TODO: Implement Function\n",
    "    shape= x_tensor.get_shape().as_list()\n",
    "    weights=tf.Variable(tf.truncated_normal([shape[1],num_outputs],stddev=0.05,mean=0.0))\n",
    "    bias=tf.Variable(tf.constant(0.01,tf.float32,[num_outputs]))\n",
    "    f_conn_layer = tf.matmul(x_tensor,weights)+bias\n",
    "    return tf.nn.relu(f_conn_layer)\n",
    "\n",
    "tests.test_fully_conn(fully_conn)"
   ]
  },
  {
   "cell_type": "markdown",
   "metadata": {},
   "source": [
    "### Output Layer\n",
    "Implement the `output` function to apply a fully connected layer to `x_tensor` with the shape (*Batch Size*, *num_outputs*). Shortcut option: you can use classes from the [TensorFlow Layers](https://www.tensorflow.org/api_docs/python/tf/layers) or [TensorFlow Layers (contrib)](https://www.tensorflow.org/api_guides/python/contrib.layers) packages for this layer. For more of a challenge, only use other TensorFlow packages.\n",
    "\n",
    "**Note:** Activation, softmax, or cross entropy should **not** be applied to this."
   ]
  },
  {
   "cell_type": "code",
   "execution_count": 13,
   "metadata": {},
   "outputs": [
    {
     "name": "stdout",
     "output_type": "stream",
     "text": [
      "Tests Passed\n"
     ]
    }
   ],
   "source": [
    "def output(x_tensor, num_outputs):\n",
    "    \"\"\"\n",
    "    Apply a output layer to x_tensor using weight and bias\n",
    "    : x_tensor: A 2-D tensor where the first dimension is batch size.\n",
    "    : num_outputs: The number of output that the new tensor should be.\n",
    "    : return: A 2-D tensor where the second dimension is num_outputs.\n",
    "    \"\"\"\n",
    "    # TODO: Implement Function\n",
    "    shape= x_tensor.get_shape().as_list()\n",
    "    weights=tf.Variable(tf.truncated_normal([shape[1],num_outputs],stddev=0.1))\n",
    "    bias=tf.Variable(tf.constant(0.01,tf.float32,[num_outputs]))\n",
    "    out_layer = tf.matmul(x_tensor,weights)+bias\n",
    "    return out_layer\n",
    "\n",
    "\n",
    "tests.test_output(output)"
   ]
  },
  {
   "cell_type": "markdown",
   "metadata": {},
   "source": [
    "### Create Convolutional Model\n",
    "Implement the function `conv_net` to create a convolutional neural network model. The function takes in a batch of images, `x`, and outputs logits.  Use the layers you created above to create this model:\n",
    "\n",
    "* Apply 1, 2, or 3 Convolution and Max Pool layers\n",
    "* Apply a Flatten Layer\n",
    "* Apply 1, 2, or 3 Fully Connected Layers\n",
    "* Apply an Output Layer\n",
    "* Return the output\n",
    "* Apply [TensorFlow's Dropout](https://www.tensorflow.org/api_docs/python/tf/nn/dropout) to one or more layers in the model using `keep_prob`. "
   ]
  },
  {
   "cell_type": "code",
   "execution_count": 14,
   "metadata": {},
   "outputs": [
    {
     "name": "stdout",
     "output_type": "stream",
     "text": [
      "WARNING:tensorflow:From <ipython-input-14-a99b377ed5b7>:62: softmax_cross_entropy_with_logits (from tensorflow.python.ops.nn_ops) is deprecated and will be removed in a future version.\n",
      "Instructions for updating:\n",
      "\n",
      "Future major versions of TensorFlow will allow gradients to flow\n",
      "into the labels input on backprop by default.\n",
      "\n",
      "See tf.nn.softmax_cross_entropy_with_logits_v2.\n",
      "\n",
      "Neural Network Built!\n"
     ]
    }
   ],
   "source": [
    "def conv_net(x, keep_prob):\n",
    "    \"\"\"\n",
    "    Create a convolutional neural network model\n",
    "    : x: Placeholder tensor that holds image data.\n",
    "    : keep_prob: Placeholder tensor that hold dropout keep probability.\n",
    "    : return: Tensor that represents logits\n",
    "    \"\"\"\n",
    "    # TODO: Apply 1, 2, or 3 Convolution and Max Pool layers\n",
    "    #    Play around with different number of outputs, kernel size and stride\n",
    "    # Function Definition from Above:\n",
    "    #    conv2d_maxpool(x_tensor, conv_num_outputs, conv_ksize, conv_strides, pool_ksize, pool_strides)\n",
    "    conv1 = conv2d_maxpool(x, 10, (5,5), (1,1), (2,2), (2,2))\n",
    "    conv2 = conv2d_maxpool(conv1, 20, (4,4), (1,1), (2,2), (2,2))\n",
    "    conv3 = conv2d_maxpool(conv2, 40, (4,4), (1,1), (2,2), (2,2))\n",
    "    \n",
    "    # TODO: Apply a Flatten Layer\n",
    "    # Function Definition from Above:\n",
    "    #   flatten(x_tensor)\n",
    "    flat1 = flatten(conv3)\n",
    "    flat2 = tf.nn.dropout(flat1,keep_prob)\n",
    "\n",
    "    # TODO: Apply 1, 2, or 3 Fully Connected Layers\n",
    "    #    Play around with different number of outputs\n",
    "    # Function Definition from Above:\n",
    "    #   fully_conn(x_tensor, num_outputs)\n",
    "    f_conn1 = fully_conn(flat2, 100)\n",
    "    f_conn2 = fully_conn(f_conn1, 50)\n",
    "    \n",
    "    # TODO: Apply an Output Layer\n",
    "    #    Set this to the number of classes\n",
    "    # Function Definition from Above:\n",
    "    #   output(x_tensor, num_outputs)\n",
    "    out = output(f_conn2, 10)\n",
    "    \n",
    "    # TODO: return output\n",
    "    return out\n",
    "\n",
    "\n",
    "\n",
    "##############################\n",
    "## Build the Neural Network ##\n",
    "##############################\n",
    "\n",
    "# Remove previous weights, bias, inputs, etc..\n",
    "tf.reset_default_graph()\n",
    "\n",
    "# Inputs\n",
    "x = neural_net_image_input((32, 32, 3))\n",
    "y = neural_net_label_input(10)\n",
    "keep_prob = neural_net_keep_prob_input()\n",
    "\n",
    "# Model\n",
    "logits = conv_net(x, keep_prob)\n",
    "\n",
    "# Name logits Tensor, so that is can be loaded from disk after training\n",
    "logits = tf.identity(logits, name='logits')\n",
    "\n",
    "# Loss and Optimizer\n",
    "cost = tf.reduce_mean(tf.nn.softmax_cross_entropy_with_logits(logits=logits, labels=y))\n",
    "optimizer = tf.train.AdamOptimizer().minimize(cost)\n",
    "\n",
    "# Accuracy\n",
    "correct_pred = tf.equal(tf.argmax(logits, 1), tf.argmax(y, 1))\n",
    "accuracy = tf.reduce_mean(tf.cast(correct_pred, tf.float32), name='accuracy')\n",
    "\n",
    "tests.test_conv_net(conv_net)"
   ]
  },
  {
   "cell_type": "markdown",
   "metadata": {},
   "source": [
    "## Train the Neural Network\n",
    "### Single Optimization\n",
    "Implement the function `train_neural_network` to do a single optimization.  The optimization should use `optimizer` to optimize in `session` with a `feed_dict` of the following:\n",
    "* `x` for image input\n",
    "* `y` for labels\n",
    "* `keep_prob` for keep probability for dropout\n",
    "\n",
    "This function will be called for each batch, so `tf.global_variables_initializer()` has already been called.\n",
    "\n",
    "Note: Nothing needs to be returned. This function is only optimizing the neural network."
   ]
  },
  {
   "cell_type": "code",
   "execution_count": 15,
   "metadata": {},
   "outputs": [
    {
     "name": "stdout",
     "output_type": "stream",
     "text": [
      "Tests Passed\n"
     ]
    }
   ],
   "source": [
    "def train_neural_network(session, optimizer, keep_probability, feature_batch, label_batch):\n",
    "    \"\"\"\n",
    "    Optimize the session on a batch of images and labels\n",
    "    : session: Current TensorFlow session\n",
    "    : optimizer: TensorFlow optimizer function\n",
    "    : keep_probability: keep probability\n",
    "    : feature_batch: Batch of Numpy image data\n",
    "    : label_batch: Batch of Numpy label data\n",
    "    \"\"\"\n",
    "    # TODO: Implement Function\n",
    "    feed_train={x:feature_batch,\n",
    "                y:label_batch,\n",
    "                keep_prob:keep_probability}\n",
    "    session.run(optimizer,feed_dict=feed_train)\n",
    "    pass\n",
    "\n",
    "\n",
    "\"\"\"\n",
    "DON'T MODIFY ANYTHING IN THIS CELL THAT IS BELOW THIS LINE\n",
    "\"\"\"\n",
    "tests.test_train_nn(train_neural_network)"
   ]
  },
  {
   "cell_type": "markdown",
   "metadata": {},
   "source": [
    "### Show Stats\n",
    "Implement the function `print_stats` to print loss and validation accuracy.  Use the global variables `valid_features` and `valid_labels` to calculate validation accuracy.  Use a keep probability of `1.0` to calculate the loss and validation accuracy."
   ]
  },
  {
   "cell_type": "code",
   "execution_count": 16,
   "metadata": {},
   "outputs": [],
   "source": [
    "def print_stats(session, feature_batch, label_batch, cost, accuracy):\n",
    "    \"\"\"\n",
    "    Print information about loss and validation accuracy\n",
    "    : session: Current TensorFlow session\n",
    "    : feature_batch: Batch of Numpy image data\n",
    "    : label_batch: Batch of Numpy label data\n",
    "    : cost: TensorFlow cost function\n",
    "    : accuracy: TensorFlow accuracy function\n",
    "    \"\"\"\n",
    "    global valid_features\n",
    "    global valid_labels\n",
    "    \n",
    "    feed_train={x:feature_batch,y:label_batch,keep_prob:1.0}\n",
    "    a,c = session.run([accuracy,cost],feed_dict=feed_train)\n",
    "    print(\"training accuracy: \",a)\n",
    "    print(\"training cost: \",c)\n",
    "    \n",
    "    feed_valid={x:valid_features,y:valid_labels,keep_prob:1.0}\n",
    "    va,vc = session.run([accuracy,cost],feed_dict=feed_valid)\n",
    "    print(\"validation accuracy: \",va)\n",
    "    print(\"validation cost: \",vc)\n",
    "    \n",
    "    # TODO: Implement Function\n",
    "    pass"
   ]
  },
  {
   "cell_type": "markdown",
   "metadata": {},
   "source": [
    "### Hyperparameters\n",
    "Tune the following parameters:\n",
    "* Set `epochs` to the number of iterations until the network stops learning or start overfitting\n",
    "* Set `batch_size` to the highest number that your machine has memory for.  Most people set them to common sizes of memory:\n",
    " * 64\n",
    " * 128\n",
    " * 256\n",
    " * ...\n",
    "* Set `keep_probability` to the probability of keeping a node using dropout"
   ]
  },
  {
   "cell_type": "code",
   "execution_count": 17,
   "metadata": {},
   "outputs": [],
   "source": [
    "# TODO: Tune Parameters\n",
    "epochs = 12\n",
    "batch_size = 6\n",
    "keep_probability = 0.3"
   ]
  },
  {
   "cell_type": "markdown",
   "metadata": {},
   "source": [
    "### Train on a Single CIFAR-10 Batch\n",
    "Instead of training the neural network on all the CIFAR-10 batches of data, let's use a single batch. This should save time while you iterate on the model to get a better accuracy.  Once the final validation accuracy is 50% or greater, run the model on all the data in the next section."
   ]
  },
  {
   "cell_type": "code",
   "execution_count": 38,
   "metadata": {},
   "outputs": [
    {
     "name": "stdout",
     "output_type": "stream",
     "text": [
      "Checking the Training on a Single Batch...\n",
      "Epoch  1, CIFAR-10 Batch 1:  training accuracy:  0.33333334\n",
      "training cost:  1.940794\n",
      "validation accuracy:  0.262\n",
      "validation cost:  1.9649234\n",
      "Epoch  2, CIFAR-10 Batch 1:  training accuracy:  0.33333334\n",
      "training cost:  2.045521\n",
      "validation accuracy:  0.3236\n",
      "validation cost:  1.8248\n",
      "Epoch  3, CIFAR-10 Batch 1:  training accuracy:  0.16666667\n",
      "training cost:  2.2250907\n",
      "validation accuracy:  0.3728\n",
      "validation cost:  1.7296691\n",
      "Epoch  4, CIFAR-10 Batch 1:  training accuracy:  0.16666667\n",
      "training cost:  2.0357206\n",
      "validation accuracy:  0.4054\n",
      "validation cost:  1.6402481\n",
      "Epoch  5, CIFAR-10 Batch 1:  training accuracy:  0.16666667\n",
      "training cost:  1.8781894\n",
      "validation accuracy:  0.4218\n",
      "validation cost:  1.5881379\n",
      "Epoch  6, CIFAR-10 Batch 1:  training accuracy:  0.33333334\n",
      "training cost:  1.9284099\n",
      "validation accuracy:  0.425\n",
      "validation cost:  1.5577822\n",
      "Epoch  7, CIFAR-10 Batch 1:  training accuracy:  0.33333334\n",
      "training cost:  1.819601\n",
      "validation accuracy:  0.429\n",
      "validation cost:  1.5507183\n",
      "Epoch  8, CIFAR-10 Batch 1:  training accuracy:  0.5\n",
      "training cost:  1.7310921\n",
      "validation accuracy:  0.4518\n",
      "validation cost:  1.4955477\n",
      "Epoch  9, CIFAR-10 Batch 1:  training accuracy:  0.5\n",
      "training cost:  1.6889172\n",
      "validation accuracy:  0.4552\n",
      "validation cost:  1.4968052\n",
      "Epoch 10, CIFAR-10 Batch 1:  training accuracy:  0.5\n",
      "training cost:  1.5066303\n",
      "validation accuracy:  0.4568\n",
      "validation cost:  1.4841361\n",
      "Epoch 11, CIFAR-10 Batch 1:  training accuracy:  0.33333334\n",
      "training cost:  1.6561311\n",
      "validation accuracy:  0.4698\n",
      "validation cost:  1.4397515\n",
      "Epoch 12, CIFAR-10 Batch 1:  training accuracy:  0.6666667\n",
      "training cost:  1.4513544\n",
      "validation accuracy:  0.4666\n",
      "validation cost:  1.467095\n"
     ]
    }
   ],
   "source": [
    "print('Checking the Training on a Single Batch...')\n",
    "with tf.Session() as sess:\n",
    "    # Initializing the variables\n",
    "    sess.run(tf.global_variables_initializer())\n",
    "    \n",
    "    # Training cycle\n",
    "    for epoch in range(epochs):\n",
    "        batch_i = 1\n",
    "        for batch_features, batch_labels in helper.load_preprocess_training_batch(batch_i, batch_size):\n",
    "            train_neural_network(sess, optimizer, keep_probability, batch_features, batch_labels)\n",
    "        print('Epoch {:>2}, CIFAR-10 Batch {}:  '.format(epoch + 1, batch_i), end='')\n",
    "        print_stats(sess, batch_features, batch_labels, cost, accuracy)"
   ]
  },
  {
   "cell_type": "markdown",
   "metadata": {},
   "source": [
    "### Fully Train the Model\n",
    "Now that you got a good accuracy with a single CIFAR-10 batch, try it with all five batches."
   ]
  },
  {
   "cell_type": "code",
   "execution_count": 39,
   "metadata": {},
   "outputs": [
    {
     "name": "stdout",
     "output_type": "stream",
     "text": [
      "Training...\n",
      "Epoch  1, CIFAR-10 Batch 1:  training accuracy:  0.16666667\n",
      "training cost:  2.1645405\n",
      "validation accuracy:  0.2756\n",
      "validation cost:  2.0066402\n",
      "Epoch  1, CIFAR-10 Batch 2:  training accuracy:  0.0\n",
      "training cost:  1.8572655\n",
      "validation accuracy:  0.3458\n",
      "validation cost:  1.7494175\n",
      "Epoch  1, CIFAR-10 Batch 3:  training accuracy:  0.33333334\n",
      "training cost:  1.6585102\n",
      "validation accuracy:  0.3928\n",
      "validation cost:  1.6329854\n",
      "Epoch  1, CIFAR-10 Batch 4:  training accuracy:  0.16666667\n",
      "training cost:  1.5868379\n",
      "validation accuracy:  0.414\n",
      "validation cost:  1.5750929\n",
      "Epoch  1, CIFAR-10 Batch 5:  training accuracy:  0.16666667\n",
      "training cost:  1.8643283\n",
      "validation accuracy:  0.4468\n",
      "validation cost:  1.5196451\n",
      "Epoch  2, CIFAR-10 Batch 1:  training accuracy:  0.5\n",
      "training cost:  1.5601292\n",
      "validation accuracy:  0.4554\n",
      "validation cost:  1.4838209\n",
      "Epoch  2, CIFAR-10 Batch 2:  training accuracy:  0.5\n",
      "training cost:  1.3391472\n",
      "validation accuracy:  0.4258\n",
      "validation cost:  1.5409949\n",
      "Epoch  2, CIFAR-10 Batch 3:  training accuracy:  0.16666667\n",
      "training cost:  1.6210618\n",
      "validation accuracy:  0.4618\n",
      "validation cost:  1.4563096\n",
      "Epoch  2, CIFAR-10 Batch 4:  training accuracy:  0.33333334\n",
      "training cost:  1.519936\n",
      "validation accuracy:  0.4818\n",
      "validation cost:  1.4010239\n",
      "Epoch  2, CIFAR-10 Batch 5:  training accuracy:  0.5\n",
      "training cost:  1.6635818\n",
      "validation accuracy:  0.4814\n",
      "validation cost:  1.4073085\n",
      "Epoch  3, CIFAR-10 Batch 1:  training accuracy:  0.33333334\n",
      "training cost:  1.5120724\n",
      "validation accuracy:  0.4928\n",
      "validation cost:  1.3845742\n",
      "Epoch  3, CIFAR-10 Batch 2:  training accuracy:  0.33333334\n",
      "training cost:  1.6241232\n",
      "validation accuracy:  0.4308\n",
      "validation cost:  1.5641323\n",
      "Epoch  3, CIFAR-10 Batch 3:  training accuracy:  0.33333334\n",
      "training cost:  1.6977186\n",
      "validation accuracy:  0.5068\n",
      "validation cost:  1.3427669\n",
      "Epoch  3, CIFAR-10 Batch 4:  training accuracy:  0.16666667\n",
      "training cost:  1.4184971\n",
      "validation accuracy:  0.5208\n",
      "validation cost:  1.3219949\n",
      "Epoch  3, CIFAR-10 Batch 5:  training accuracy:  0.33333334\n",
      "training cost:  1.8905283\n",
      "validation accuracy:  0.5194\n",
      "validation cost:  1.3407377\n",
      "Epoch  4, CIFAR-10 Batch 1:  training accuracy:  0.6666667\n",
      "training cost:  1.4247941\n",
      "validation accuracy:  0.5188\n",
      "validation cost:  1.3472192\n",
      "Epoch  4, CIFAR-10 Batch 2:  training accuracy:  0.33333334\n",
      "training cost:  1.4240828\n",
      "validation accuracy:  0.4772\n",
      "validation cost:  1.4371326\n",
      "Epoch  4, CIFAR-10 Batch 3:  training accuracy:  0.33333334\n",
      "training cost:  1.5710605\n",
      "validation accuracy:  0.522\n",
      "validation cost:  1.3082281\n",
      "Epoch  4, CIFAR-10 Batch 4:  training accuracy:  0.16666667\n",
      "training cost:  1.3143857\n",
      "validation accuracy:  0.5314\n",
      "validation cost:  1.2946796\n",
      "Epoch  4, CIFAR-10 Batch 5:  training accuracy:  0.33333334\n",
      "training cost:  1.7050661\n",
      "validation accuracy:  0.5394\n",
      "validation cost:  1.2912732\n",
      "Epoch  5, CIFAR-10 Batch 1:  training accuracy:  0.6666667\n",
      "training cost:  1.2412888\n",
      "validation accuracy:  0.5482\n",
      "validation cost:  1.2749335\n",
      "Epoch  5, CIFAR-10 Batch 2:  training accuracy:  0.33333334\n",
      "training cost:  1.5307113\n",
      "validation accuracy:  0.5036\n",
      "validation cost:  1.3444167\n",
      "Epoch  5, CIFAR-10 Batch 3:  training accuracy:  0.33333334\n",
      "training cost:  1.3917094\n",
      "validation accuracy:  0.546\n",
      "validation cost:  1.2553695\n",
      "Epoch  5, CIFAR-10 Batch 4:  training accuracy:  0.5\n",
      "training cost:  1.3175961\n",
      "validation accuracy:  0.5584\n",
      "validation cost:  1.238849\n",
      "Epoch  5, CIFAR-10 Batch 5:  training accuracy:  0.5\n",
      "training cost:  1.7104496\n",
      "validation accuracy:  0.5426\n",
      "validation cost:  1.2816588\n",
      "Epoch  6, CIFAR-10 Batch 1:  training accuracy:  0.5\n",
      "training cost:  1.2378714\n",
      "validation accuracy:  0.5348\n",
      "validation cost:  1.2916328\n",
      "Epoch  6, CIFAR-10 Batch 2:  training accuracy:  0.33333334\n",
      "training cost:  1.4067253\n",
      "validation accuracy:  0.5382\n",
      "validation cost:  1.2911313\n",
      "Epoch  6, CIFAR-10 Batch 3:  training accuracy:  0.6666667\n",
      "training cost:  1.3448812\n",
      "validation accuracy:  0.5456\n",
      "validation cost:  1.2592214\n",
      "Epoch  6, CIFAR-10 Batch 4:  training accuracy:  0.33333334\n",
      "training cost:  1.0314493\n",
      "validation accuracy:  0.5574\n",
      "validation cost:  1.2428392\n",
      "Epoch  6, CIFAR-10 Batch 5:  training accuracy:  0.5\n",
      "training cost:  1.3416085\n",
      "validation accuracy:  0.5472\n",
      "validation cost:  1.2770907\n",
      "Epoch  7, CIFAR-10 Batch 1:  training accuracy:  0.6666667\n",
      "training cost:  1.1864012\n",
      "validation accuracy:  0.5502\n",
      "validation cost:  1.2597371\n",
      "Epoch  7, CIFAR-10 Batch 2:  training accuracy:  0.33333334\n",
      "training cost:  1.2055458\n",
      "validation accuracy:  0.5262\n",
      "validation cost:  1.3194708\n",
      "Epoch  7, CIFAR-10 Batch 3:  training accuracy:  0.16666667\n",
      "training cost:  1.4880848\n",
      "validation accuracy:  0.5402\n",
      "validation cost:  1.2732536\n",
      "Epoch  7, CIFAR-10 Batch 4:  training accuracy:  0.5\n",
      "training cost:  1.0893418\n",
      "validation accuracy:  0.5736\n",
      "validation cost:  1.2051051\n",
      "Epoch  7, CIFAR-10 Batch 5:  training accuracy:  0.5\n",
      "training cost:  1.2883769\n",
      "validation accuracy:  0.5358\n",
      "validation cost:  1.2892133\n",
      "Epoch  8, CIFAR-10 Batch 1:  training accuracy:  0.5\n",
      "training cost:  1.0687006\n",
      "validation accuracy:  0.5642\n",
      "validation cost:  1.234076\n",
      "Epoch  8, CIFAR-10 Batch 2:  training accuracy:  0.5\n",
      "training cost:  1.2778076\n",
      "validation accuracy:  0.55\n",
      "validation cost:  1.2368137\n",
      "Epoch  8, CIFAR-10 Batch 3:  training accuracy:  0.6666667\n",
      "training cost:  1.3423759\n",
      "validation accuracy:  0.5792\n",
      "validation cost:  1.183677\n",
      "Epoch  8, CIFAR-10 Batch 4:  training accuracy:  0.5\n",
      "training cost:  1.2349838\n",
      "validation accuracy:  0.5808\n",
      "validation cost:  1.1871097\n",
      "Epoch  8, CIFAR-10 Batch 5:  training accuracy:  0.5\n",
      "training cost:  1.1678334\n",
      "validation accuracy:  0.563\n",
      "validation cost:  1.224272\n",
      "Epoch  9, CIFAR-10 Batch 1:  training accuracy:  0.5\n",
      "training cost:  1.164359\n",
      "validation accuracy:  0.5704\n",
      "validation cost:  1.2069682\n",
      "Epoch  9, CIFAR-10 Batch 2:  training accuracy:  0.5\n",
      "training cost:  1.1579999\n",
      "validation accuracy:  0.5676\n",
      "validation cost:  1.2246556\n",
      "Epoch  9, CIFAR-10 Batch 3:  training accuracy:  0.6666667\n",
      "training cost:  1.4966435\n",
      "validation accuracy:  0.5824\n",
      "validation cost:  1.1845009\n",
      "Epoch  9, CIFAR-10 Batch 4:  training accuracy:  0.6666667\n",
      "training cost:  0.9772695\n",
      "validation accuracy:  0.5866\n",
      "validation cost:  1.1789061\n",
      "Epoch  9, CIFAR-10 Batch 5:  training accuracy:  0.5\n",
      "training cost:  1.1639723\n",
      "validation accuracy:  0.5882\n",
      "validation cost:  1.160782\n",
      "Epoch 10, CIFAR-10 Batch 1:  training accuracy:  0.5\n",
      "training cost:  1.3190199\n",
      "validation accuracy:  0.5896\n",
      "validation cost:  1.1586875\n",
      "Epoch 10, CIFAR-10 Batch 2:  training accuracy:  0.5\n",
      "training cost:  1.0855755\n",
      "validation accuracy:  0.5756\n",
      "validation cost:  1.2128215\n",
      "Epoch 10, CIFAR-10 Batch 3:  training accuracy:  0.5\n",
      "training cost:  1.3668393\n",
      "validation accuracy:  0.5826\n",
      "validation cost:  1.1839342\n",
      "Epoch 10, CIFAR-10 Batch 4:  training accuracy:  0.5\n",
      "training cost:  0.82082677\n",
      "validation accuracy:  0.5914\n",
      "validation cost:  1.1666113\n",
      "Epoch 10, CIFAR-10 Batch 5:  training accuracy:  0.6666667\n",
      "training cost:  1.0884415\n",
      "validation accuracy:  0.5684\n",
      "validation cost:  1.2253745\n",
      "Epoch 11, CIFAR-10 Batch 1:  training accuracy:  0.5\n",
      "training cost:  1.1149559\n",
      "validation accuracy:  0.5866\n",
      "validation cost:  1.1720821\n",
      "Epoch 11, CIFAR-10 Batch 2:  training accuracy:  0.5\n",
      "training cost:  0.9200077\n",
      "validation accuracy:  0.573\n",
      "validation cost:  1.2089624\n",
      "Epoch 11, CIFAR-10 Batch 3:  training accuracy:  0.6666667\n",
      "training cost:  1.2104975\n",
      "validation accuracy:  0.5722\n",
      "validation cost:  1.1926991\n",
      "Epoch 11, CIFAR-10 Batch 4:  training accuracy:  0.6666667\n",
      "training cost:  0.99659425\n",
      "validation accuracy:  0.6016\n",
      "validation cost:  1.1413379\n",
      "Epoch 11, CIFAR-10 Batch 5:  training accuracy:  0.6666667\n",
      "training cost:  0.96371335\n",
      "validation accuracy:  0.5914\n",
      "validation cost:  1.1568797\n",
      "Epoch 12, CIFAR-10 Batch 1:  training accuracy:  0.5\n",
      "training cost:  1.1739577\n",
      "validation accuracy:  0.5982\n",
      "validation cost:  1.1544976\n",
      "Epoch 12, CIFAR-10 Batch 2:  training accuracy:  0.5\n",
      "training cost:  1.4695402\n",
      "validation accuracy:  0.4966\n",
      "validation cost:  1.4694742\n",
      "Epoch 12, CIFAR-10 Batch 3:  training accuracy:  0.8333333\n",
      "training cost:  1.2371473\n",
      "validation accuracy:  0.5776\n",
      "validation cost:  1.1899177\n",
      "Epoch 12, CIFAR-10 Batch 4:  training accuracy:  0.5\n",
      "training cost:  1.1093186\n",
      "validation accuracy:  0.6004\n",
      "validation cost:  1.1394498\n",
      "Epoch 12, CIFAR-10 Batch 5:  training accuracy:  0.33333334\n",
      "training cost:  1.3166128\n",
      "validation accuracy:  0.5818\n",
      "validation cost:  1.1851965\n"
     ]
    }
   ],
   "source": [
    "save_model_path = './image_classification'\n",
    "\n",
    "print('Training...')\n",
    "with tf.Session() as sess:\n",
    "    # Initializing the variables\n",
    "    sess.run(tf.global_variables_initializer())\n",
    "    \n",
    "    # Training cycle\n",
    "    for epoch in range(epochs):\n",
    "        # Loop over all batches\n",
    "        n_batches = 5\n",
    "        for batch_i in range(1, n_batches + 1):\n",
    "            for batch_features, batch_labels in helper.load_preprocess_training_batch(batch_i, batch_size):\n",
    "                train_neural_network(sess, optimizer, keep_probability, batch_features, batch_labels)\n",
    "            print('Epoch {:>2}, CIFAR-10 Batch {}:  '.format(epoch + 1, batch_i), end='')\n",
    "            print_stats(sess, batch_features, batch_labels, cost, accuracy)\n",
    "            \n",
    "    # Save Model\n",
    "    saver = tf.train.Saver()\n",
    "    save_path = saver.save(sess, save_model_path)"
   ]
  },
  {
   "cell_type": "markdown",
   "metadata": {},
   "source": [
    "# Checkpoint\n",
    "The model has been saved to disk.\n",
    "## Test Model\n",
    "Test your model against the test dataset.  This will be your final accuracy. You should have an accuracy greater than 50%. If you don't, keep tweaking the model architecture and parameters."
   ]
  },
  {
   "cell_type": "code",
   "execution_count": 1,
   "metadata": {},
   "outputs": [
    {
     "name": "stdout",
     "output_type": "stream",
     "text": [
      "INFO:tensorflow:Restoring parameters from ./image_classification\n",
      "Testing Accuracy: 0.5841958598726115\n",
      "\n"
     ]
    },
    {
     "data": {
      "image/png": "[encoded data removed]",
      "text/plain": [
       "<matplotlib.figure.Figure at 0x22d7effe208>"
      ]
     },
     "metadata": {
      "image/png": {
       "height": 319,
       "width": 355
      }
     },
     "output_type": "display_data"
    }
   ],
   "source": [
    "%matplotlib inline\n",
    "%config InlineBackend.figure_format = 'retina'\n",
    "\n",
    "import tensorflow as tf\n",
    "import pickle\n",
    "import helper\n",
    "import random\n",
    "\n",
    "# Set batch size if not already set\n",
    "try:\n",
    "    if batch_size:\n",
    "        pass\n",
    "except NameError:\n",
    "    batch_size = 64\n",
    "\n",
    "save_model_path = './image_classification'\n",
    "n_samples = 4\n",
    "top_n_predictions = 3\n",
    "\n",
    "def test_model():\n",
    "    \"\"\"\n",
    "    Test the saved model against the test dataset\n",
    "    \"\"\"\n",
    "\n",
    "    test_features, test_labels = pickle.load(open('preprocess_training.p', mode='rb'))\n",
    "    loaded_graph = tf.Graph()\n",
    "\n",
    "    with tf.Session(graph=loaded_graph) as sess:\n",
    "        # Load model\n",
    "        loader = tf.train.import_meta_graph(save_model_path + '.meta')\n",
    "        loader.restore(sess, save_model_path)\n",
    "\n",
    "        # Get Tensors from loaded model\n",
    "        loaded_x = loaded_graph.get_tensor_by_name('x:0')\n",
    "        loaded_y = loaded_graph.get_tensor_by_name('y:0')\n",
    "        loaded_keep_prob = loaded_graph.get_tensor_by_name('keep_prob:0')\n",
    "        loaded_logits = loaded_graph.get_tensor_by_name('logits:0')\n",
    "        loaded_acc = loaded_graph.get_tensor_by_name('accuracy:0')\n",
    "        \n",
    "        # Get accuracy in batches for memory limitations\n",
    "        test_batch_acc_total = 0\n",
    "        test_batch_count = 0\n",
    "        \n",
    "        for train_feature_batch, train_label_batch in helper.batch_features_labels(test_features, test_labels, batch_size):\n",
    "            test_batch_acc_total += sess.run(\n",
    "                loaded_acc,\n",
    "                feed_dict={loaded_x: train_feature_batch, loaded_y: train_label_batch, loaded_keep_prob: 1.0})\n",
    "            test_batch_count += 1\n",
    "\n",
    "        print('Testing Accuracy: {}\\n'.format(test_batch_acc_total/test_batch_count))\n",
    "\n",
    "        # Print Random Samples\n",
    "        random_test_features, random_test_labels = tuple(zip(*random.sample(list(zip(test_features, test_labels)), n_samples)))\n",
    "        random_test_predictions = sess.run(\n",
    "            tf.nn.top_k(tf.nn.softmax(loaded_logits), top_n_predictions),\n",
    "            feed_dict={loaded_x: random_test_features, loaded_y: random_test_labels, loaded_keep_prob: 1.0})\n",
    "        helper.display_image_predictions(random_test_features, random_test_labels, random_test_predictions)\n",
    "\n",
    "\n",
    "test_model()"
   ]
  }
 ],
 "metadata": {
  "kernelspec": {
   "display_name": "Python 3",
   "language": "python",
   "name": "python3"
  },
  "language_info": {
   "codemirror_mode": {
    "name": "ipython",
    "version": 3
   },
   "file_extension": ".py",
   "mimetype": "text/x-python",
   "name": "python",
   "nbconvert_exporter": "python",
   "pygments_lexer": "ipython3",
   "version": "3.6.5"
  }
 },
 "nbformat": 4,
 "nbformat_minor": 1
}
